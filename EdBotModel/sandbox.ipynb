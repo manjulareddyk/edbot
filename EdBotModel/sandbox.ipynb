{
 "cells": [
  {
   "cell_type": "code",
   "execution_count": 1,
   "id": "14341530",
   "metadata": {},
   "outputs": [
    {
     "name": "stderr",
     "output_type": "stream",
     "text": [
      "/home/balavarun/.local/lib/python3.10/site-packages/pinecone/index.py:4: TqdmExperimentalWarning: Using `tqdm.autonotebook.tqdm` in notebook mode. Use `tqdm.tqdm` instead to force console mode (e.g. in jupyter console)\n",
      "  from tqdm.autonotebook import tqdm\n"
     ]
    }
   ],
   "source": [
    "import os\n",
    "\n",
    "import pinecone\n",
    "\n",
    "\n",
    "pinecone.init(api_key=os.environ[\"PINECONE_API_KEY\"], environment=os.environ[\"PINECONE_ENV\"])"
   ]
  },
  {
   "cell_type": "code",
   "execution_count": 2,
   "id": "7d91316b",
   "metadata": {},
   "outputs": [],
   "source": [
    "from langchain.schema import Document\n",
    "from langchain.embeddings.openai import OpenAIEmbeddings\n",
    "from langchain.vectorstores import Pinecone\n",
    "\n",
    "embeddings = OpenAIEmbeddings()\n",
    "# create new index\n",
    "pinecone.create_index(\"langchain-self-retriever-demo\", dimension=1536)"
   ]
  },
  {
   "cell_type": "code",
   "execution_count": 3,
   "id": "1c4c9eec",
   "metadata": {},
   "outputs": [],
   "source": [
    "docs = [\n",
    "    Document(page_content=\"A bunch of scientists bring back dinosaurs and mayhem breaks loose\", metadata={\"year\": 1993, \"rating\": 7.7, \"genre\": [\"action\", \"science fiction\"]}),\n",
    "    Document(page_content=\"Leo DiCaprio gets lost in a dream within a dream within a dream within a ...\", metadata={\"year\": 2010, \"director\": \"Christopher Nolan\", \"rating\": 8.2}),\n",
    "    Document(page_content=\"A psychologist / detective gets lost in a series of dreams within dreams within dreams and Inception reused the idea\", metadata={\"year\": 2006, \"director\": \"Satoshi Kon\", \"rating\": 8.6}),\n",
    "    Document(page_content=\"A bunch of normal-sized women are supremely wholesome and some men pine after them\", metadata={\"year\": 2019, \"director\": \"Greta Gerwig\", \"rating\": 8.3}),\n",
    "    Document(page_content=\"Toys come alive and have a blast doing so\", metadata={\"year\": 1995, \"genre\": \"animated\"}),\n",
    "    Document(page_content=\"Three men walk into the Zone, three men walk out of the Zone\", metadata={\"year\": 1979, \"rating\": 9.9, \"director\": \"Andrei Tarkovsky\", \"genre\": [\"science fiction\", \"thriller\"], \"rating\": 9.9})\n",
    "]\n",
    "vectorstore = Pinecone.from_documents(\n",
    "    docs, embeddings, index_name=\"langchain-self-retriever-demo\"\n",
    ")"
   ]
  },
  {
   "cell_type": "code",
   "execution_count": 4,
   "id": "9c4ec720",
   "metadata": {},
   "outputs": [],
   "source": [
    "docs = [\n",
    "    Document(page_content=\"A bunch of scientists bring back dinosaurs and mayhem breaks loose\", metadata={\"year\": 1993, \"rating\": 7.7, \"genre\": [\"action\", \"science fiction\"]}),\n",
    "    Document(page_content=\"Leo DiCaprio gets lost in a dream within a dream within a dream within a ...\", metadata={\"year\": 2010, \"director\": \"Christopher Nolan\", \"rating\": 8.2}),\n",
    "    Document(page_content=\"A psychologist / detective gets lost in a series of dreams within dreams within dreams and Inception reused the idea\", metadata={\"year\": 2006, \"director\": \"Satoshi Kon\", \"rating\": 8.6}),\n",
    "    Document(page_content=\"A bunch of normal-sized women are supremely wholesome and some men pine after them\", metadata={\"year\": 2019, \"director\": \"Greta Gerwig\", \"rating\": 8.3}),\n",
    "    Document(page_content=\"Toys come alive and have a blast doing so\", metadata={\"year\": 1995, \"genre\": \"animated\"}),\n",
    "    Document(page_content=\"Three men walk into the Zone, three men walk out of the Zone\", metadata={\"year\": 1979, \"rating\": 9.9, \"director\": \"Andrei Tarkovsky\", \"genre\": [\"science fiction\", \"thriller\"], \"rating\": 9.9})\n",
    "]\n",
    "vectorstore = Pinecone.from_documents(\n",
    "    docs, embeddings, index_name=\"langchain-self-retriever-demo\"\n",
    ")"
   ]
  },
  {
   "cell_type": "code",
   "execution_count": 5,
   "id": "f3dbcc45",
   "metadata": {},
   "outputs": [],
   "source": [
    "from langchain.llms import OpenAI\n",
    "from langchain.retrievers.self_query.base import SelfQueryRetriever\n",
    "from langchain.chains.query_constructor.base import AttributeInfo\n",
    "\n",
    "metadata_field_info=[\n",
    "    AttributeInfo(\n",
    "        name=\"genre\",\n",
    "        description=\"The genre of the movie\", \n",
    "        type=\"string or list[string]\", \n",
    "    ),\n",
    "    AttributeInfo(\n",
    "        name=\"year\",\n",
    "        description=\"The year the movie was released\", \n",
    "        type=\"integer\", \n",
    "    ),\n",
    "    AttributeInfo(\n",
    "        name=\"director\",\n",
    "        description=\"The name of the movie director\", \n",
    "        type=\"string\", \n",
    "    ),\n",
    "    AttributeInfo(\n",
    "        name=\"rating\",\n",
    "        description=\"A 1-10 rating for the movie\",\n",
    "        type=\"float\"\n",
    "    ),\n",
    "]\n",
    "document_content_description = \"Brief summary of a movie\"\n",
    "llm = OpenAI(temperature=0)\n",
    "retriever = SelfQueryRetriever.from_llm(llm, vectorstore, document_content_description, metadata_field_info, verbose=True)"
   ]
  },
  {
   "cell_type": "code",
   "execution_count": 6,
   "id": "f485685d",
   "metadata": {},
   "outputs": [
    {
     "name": "stdout",
     "output_type": "stream",
     "text": [
      "query='dinosaur' filter=None\n"
     ]
    },
    {
     "data": {
      "text/plain": [
       "[Document(page_content='A bunch of scientists bring back dinosaurs and mayhem breaks loose', metadata={'genre': ['action', 'science fiction'], 'rating': 7.7, 'year': 1993.0}),\n",
       " Document(page_content='A bunch of scientists bring back dinosaurs and mayhem breaks loose', metadata={'genre': ['action', 'science fiction'], 'rating': 7.7, 'year': 1993.0}),\n",
       " Document(page_content='Toys come alive and have a blast doing so', metadata={'genre': 'animated', 'year': 1995.0}),\n",
       " Document(page_content='Toys come alive and have a blast doing so', metadata={'genre': 'animated', 'year': 1995.0})]"
      ]
     },
     "execution_count": 6,
     "metadata": {},
     "output_type": "execute_result"
    }
   ],
   "source": [
    "# This example only specifies a relevant query\n",
    "retriever.get_relevant_documents(\"What are some movies about dinosaurs\")"
   ]
  },
  {
   "cell_type": "code",
   "execution_count": 7,
   "id": "5d8bd055",
   "metadata": {},
   "outputs": [
    {
     "name": "stdout",
     "output_type": "stream",
     "text": [
      "query='dinosaur' filter=None\n"
     ]
    },
    {
     "data": {
      "text/plain": [
       "[Document(page_content='A bunch of scientists bring back dinosaurs and mayhem breaks loose', metadata={'genre': ['action', 'science fiction'], 'rating': 7.7, 'year': 1993.0}),\n",
       " Document(page_content='A bunch of scientists bring back dinosaurs and mayhem breaks loose', metadata={'genre': ['action', 'science fiction'], 'rating': 7.7, 'year': 1993.0}),\n",
       " Document(page_content='Toys come alive and have a blast doing so', metadata={'genre': 'animated', 'year': 1995.0}),\n",
       " Document(page_content='Toys come alive and have a blast doing so', metadata={'genre': 'animated', 'year': 1995.0})]"
      ]
     },
     "execution_count": 7,
     "metadata": {},
     "output_type": "execute_result"
    }
   ],
   "source": [
    "# This example only specifies a relevant query\n",
    "retriever.get_relevant_documents(\"What are some movies about dinosaurs\")"
   ]
  },
  {
   "cell_type": "code",
   "execution_count": 8,
   "id": "60cf203b",
   "metadata": {},
   "outputs": [
    {
     "name": "stdout",
     "output_type": "stream",
     "text": [
      "query=' ' filter=Comparison(comparator=<Comparator.GT: 'gt'>, attribute='rating', value=8.5)\n"
     ]
    },
    {
     "data": {
      "text/plain": [
       "[Document(page_content='A psychologist / detective gets lost in a series of dreams within dreams within dreams and Inception reused the idea', metadata={'director': 'Satoshi Kon', 'rating': 8.6, 'year': 2006.0}),\n",
       " Document(page_content='A psychologist / detective gets lost in a series of dreams within dreams within dreams and Inception reused the idea', metadata={'director': 'Satoshi Kon', 'rating': 8.6, 'year': 2006.0}),\n",
       " Document(page_content='Three men walk into the Zone, three men walk out of the Zone', metadata={'director': 'Andrei Tarkovsky', 'genre': ['science fiction', 'thriller'], 'rating': 9.9, 'year': 1979.0}),\n",
       " Document(page_content='Three men walk into the Zone, three men walk out of the Zone', metadata={'director': 'Andrei Tarkovsky', 'genre': ['science fiction', 'thriller'], 'rating': 9.9, 'year': 1979.0})]"
      ]
     },
     "execution_count": 8,
     "metadata": {},
     "output_type": "execute_result"
    }
   ],
   "source": [
    "# This example only specifies a filter\n",
    "retriever.get_relevant_documents(\"I want to watch a movie rated higher than 8.5\")"
   ]
  },
  {
   "cell_type": "code",
   "execution_count": 9,
   "id": "4008d579",
   "metadata": {},
   "outputs": [
    {
     "name": "stdout",
     "output_type": "stream",
     "text": [
      "/home/balavarun/Desktop/nlp/edbot/EdBotModel\r\n"
     ]
    }
   ],
   "source": [
    "!pwd"
   ]
  },
  {
   "cell_type": "code",
   "execution_count": 20,
   "id": "07545c0c",
   "metadata": {},
   "outputs": [],
   "source": [
    "from langchain.document_loaders import PyPDFLoader\n",
    "from langchain.text_splitter import CharacterTextSplitter\n"
   ]
  },
  {
   "cell_type": "code",
   "execution_count": null,
   "id": "be7f5cfa",
   "metadata": {},
   "outputs": [],
   "source": []
  },
  {
   "cell_type": "code",
   "execution_count": null,
   "id": "d5d80af8",
   "metadata": {},
   "outputs": [],
   "source": []
  },
  {
   "cell_type": "code",
   "execution_count": null,
   "id": "3397d3cd",
   "metadata": {},
   "outputs": [],
   "source": []
  },
  {
   "cell_type": "code",
   "execution_count": 18,
   "id": "d1d30bb2",
   "metadata": {},
   "outputs": [],
   "source": [
    "def ingest_docs(filename):\n",
    "    path = \"docs/\" + filename\n",
    "    if(filename.endswith(\".pdf\") == False):\n",
    "        return\n",
    "    loader = PyPDFLoader(path)\n",
    "    pages = loader.load_and_split()\n",
    "    # print(pages[0].page_content)\n",
    "    text_splitter = CharacterTextSplitter(chunk_size=1000, chunk_overlap=0)\n",
    "    docs = text_splitter.split_documents(pages)\n",
    "    print(docs)\n",
    "\n",
    "#     embeddings = OpenAIEmbeddings()\n",
    "#     db = FAISS.from_documents(documents=docs, embedding=embeddings)\n",
    "\n",
    "\n",
    "#     path_to_index = \"docs/faiss_indices/\" + filename + \".index\"\n",
    "#     db.save_local(path_to_index)\n",
    "    return"
   ]
  },
  {
   "cell_type": "code",
   "execution_count": 21,
   "id": "d2f40dc1",
   "metadata": {},
   "outputs": [
    {
     "name": "stdout",
     "output_type": "stream",
     "text": [
      "[Document(page_content='Highlights \\nMaterials are subject to change without notice.\\n87-33070-1 Rev. AThe powerful QCS7230 processor is \\ndesigned to help you deliver superior \\nperformance for compute intensive camera \\nand Edge AI applications with Wi-Fi 6 for \\nthe Internet of Things (IoT).\\nQualcomm QCS7230, Qualcomm AI Engine and Qualcomm Hexagon are products of Qualcomm Technologies, Inc. \\nand/or its subsidiaries.Superior camera support\\nFeature packed with an advanced Image Quality (IQ) and \\nsupport for up to 7 cameras running concurrent AI models. \\nAlso, support for up to three 4K displays with independent \\ncontent plus intelligent zoom in and out. Up to 8K video \\nencode/decode, and up to 64 megapixel photo capture and \\nvideo capturing for exceptional high-definition videos.\\nPowerful Edge AI and video analytics \\nThis processor contains a dedicated CV hardware block and \\nHTA designed to deliver up to 7 TOPS of AI performance \\nfor compute intensive enterprise and commercial IoT \\napplications. Heterogenous computing of sensor inputs \\nfrom camera, audio, Bluetooth® and hubs deliver a power \\noptimized enterprise grade experience. Also support for \\npopular cloud applications for distributed AI model use cases.\\n5G and Wi-Fi 6 support\\nSupporting a broad set of wired and wireless connectivity \\noptions, including 5G mmW and Sub-6 GHz, and Bluetooth \\n5.1, for a variety of enterprise and commercial IoT applications. \\nWide range of interfaces and peripherals    \\nsupport\\nRich set of interfaces such as 2x USB 3.1, Type-C with \\nDisplayPort, MIPI-CSI/DSI, PCIe (3-lane), and memory \\nsupport interfaces for LPDDR4x/LPDDR5 – suited for \\nindustrial and commercial IoT applications.\\nFlexible design options to accelerate \\nfaster time to commercialization\\nTo give you flexibility in your design, our ecosystem partners \\noffer full form factor reference designs, development board \\nofferings for prototyping, or off-the-shelf System-on-Module \\n(SoM) solutions, to chip-onboard designs – all to enable ease \\nof development and accelerate commercialization and scale.Qualcomm® QCS7230  \\nSoC for IoT\\nThe QCS7230 System-on-Chip (SoC) brings the \\nlatest technologies in a highly integrated chipset \\nthat delivers high performance with exceptional \\nfeatures. This chip is purpose- built for enterprise \\nand commercial IoT applications such as \\nvideo collaboration, smart camera, connected \\nhealthcare, smart retail and more.\\nThe QCS7230 offers a powerful heterogeneous \\ncomputing architecture coupled with the \\nQualcomm® AI Engine to efficiently run complex \\nAI and deep learning workloads and on-device \\nedge inferencing at incredibly low power.\\nThe processor also offers a powerful image signal \\nprocessor (ISP) with support for up to seven \\nconcurrent cameras, or up to 24 video streaming \\ncameras, a dedicated computer vision engine for \\nenhanced video analytics (EVA), as well as the \\nnew Qualcomm® Hexagon™ Tensor Accelerator \\n(HTA). With support for Wi-Fi 6 connectivity \\nspeeds via a companion module, the QCS7230 \\nrepresents a highly comprehensive set of \\nfeatures for developing powerful IoT devices and \\nenterprise grade solutions.\\nThe dedicated Engine for Video Analytics (EVA) \\nprovides enhancement for computer vision (CV) \\napplications with reduced latencies for real time \\nimage processing, freeing up the DSP, GPU, and \\nCPU capacity for other critical AI applications.\\nTo further facilitate fast and cost-effective \\ndevelopment, Qualcomm Technologies, Inc. has \\ncollaborated with ODMs to provide a variety of \\ndevelopment kits, tools and reference devices, \\nas well as ISVs to provide solutions that address \\nvarious industry segments.', metadata={'source': 'docs/qualcomm-1.pdf', 'page': 0}), Document(page_content='Process Node   7nm FFP\\nPackage 12.4 x 12.7mm LP4, 12.4 x 14mm LP5 MEP\\nCPU Kryo 585, Hexa-core 64-bit Arm V-8 compliant\\nMemory  Quad-channel PoP high speed LPDDR5 SDRAM  \\nup to 2750 MHz\\nGPU  Adreno GPU 650\\nCompute DSP  Hexagon DSP with Quad HVX V66Q, 1.5 GHz\\nMachine Learning  Dedicated NPU 230\\nCamera Dual ISP: 64 MP @ 30fps ZSL\\nConnectivity  WLAN 2 x 2 802.11ax with DBS, Bluetooth 5.1 \\nPMIC  Discrete power supply, clock source\\nDisplay  Adreno 995 DPU, supports up to three 4K display, 2x 4-Lane DSI, \\nDisplay Port and Miracast support.\\nVideo Decode: 8K60/4K240; Encode: 8K30/4K120\\nSecurity Dedicated SPU with Improved Crypto\\nI/O Storage  eMMC 5.1, SPI NOR/NAND flash, SD 3.0\\nOperating System  Android 10\\nQCS7230 Block Diagram Features\\n\\tz Qualcomm® Kryo™ 585 CPU with 1x Kryo \\nGold (2.8GHz) + 3x Gold @2.42GHX + 2x \\nKryo Silver (1.8 GHz) with 4MB L3 cache\\n\\tzCamera: Dual 14-bit Qualcomm Spectra™ \\n480 ISP support 64MP single camera \\ncapture\\n\\tzQualcomm® Adreno™ 650 GPU with \\nimproved GPU performance and power \\nefficiency\\n\\tzNative 8-bit integer support for efficient \\nGPU DNN\\n\\tzHexagon DSP with quad Hexagon Vector \\neXtensions (HVX) V66Q, 1.5 GHz, for \\nmachine learning, integrated DNN for \\nadvanced VA and Qualcomm® Neural \\nProcessing SDK framework\\n\\tzSupport for up to 24 cameras, or seven \\nconcurrent cameras\\n\\tzSuperior image quality in zzHDR, video \\ndenoising, mid/low frequency denoising, \\nlens shading correction, video super \\nresolution\\n\\tzSupports triple 4K displays\\n\\tzVideo/display: Concurrent UHD encode/\\ndecode, 2X display port, MIPI-DSI \\n\\tzVideo processing at up to 4K240 \\ndecode/4K120 encode, multiple video \\ncodecs\\n\\tzComputer Vision: CVP 2.0 for improved \\nvideo de-noising, digital video stabilization \\nand image correction adjustment\\n\\tzNPU (Neural Processing Unit) for \\nperformance and always-on Neural \\nNetwork (NN) use cases\\n\\tzAudio: Multi-mic, source tracking, ECNS, \\nvoice activation\\n\\tzSupport for 2x2 11ax 80MHz for faster \\ndownloads\\n\\tzQualcomm Technologies video \\ncollaboration reference design feature set\\n©2022 Qualcomm Technologies, Inc. and/or its affiliated companies. All Rights Reserved. Qualcomm, Kryo, Hexagon, \\nQualcomm Spectra and Adreno are trademarks or registered trademarks of Qualcomm Incorporated. Other products and brand \\nnames may be trademarks or registered trademarks of their respective owners.                                                          0322A    QCS7230 Target Applications\\n• Connected Cameras\\n• Retail Self Checkout\\n• Video Collaboration• Digital Signage\\n• Fleet Management\\n• Healthcare\\nSpecifications  \\nT o learn more visit: qualcomm.com\\nProduct Part Number\\nQCS7230 (LPDDR5 PoP) QCS7230-0-AA\\nPlease check part numbers for accuracy before orderingOrdering InformationQualcomm Kryo, Qualcomm Spectra and Qualcomm Adreno are products of Qualcomm Technologies, Inc. and/or its \\nsubsidiaries.*5G, Wi-Fi 6 and Bluetooth 5.1 supported with a companion module.', metadata={'source': 'docs/qualcomm-1.pdf', 'page': 1})]\n"
     ]
    }
   ],
   "source": [
    "ingest_docs('qualcomm-1.pdf')"
   ]
  },
  {
   "cell_type": "code",
   "execution_count": 1,
   "id": "2f588f5a",
   "metadata": {},
   "outputs": [
    {
     "name": "stderr",
     "output_type": "stream",
     "text": [
      "/home/balavarun/.local/lib/python3.10/site-packages/pinecone/index.py:4: TqdmExperimentalWarning: Using `tqdm.autonotebook.tqdm` in notebook mode. Use `tqdm.tqdm` instead to force console mode (e.g. in jupyter console)\n",
      "  from tqdm.autonotebook import tqdm\n"
     ]
    }
   ],
   "source": [
    "import os\n",
    "\n",
    "import pinecone\n",
    "\n",
    "\n",
    "pinecone.init(api_key=os.environ[\"PINECONE_API_KEY\"], environment=os.environ[\"PINECONE_ENV\"])"
   ]
  },
  {
   "cell_type": "code",
   "execution_count": 2,
   "id": "9553276a",
   "metadata": {},
   "outputs": [],
   "source": [
    "from langchain.vectorstores import Pinecone\n",
    "from langchain.embeddings.openai import OpenAIEmbeddings\n",
    "\n",
    "embed = OpenAIEmbeddings()\n",
    "\n",
    "lang_vectorstore = Pinecone.from_existing_index('langchain-self-retriever-demo', embedding=embed)"
   ]
  },
  {
   "cell_type": "code",
   "execution_count": 3,
   "id": "bec3e212",
   "metadata": {},
   "outputs": [
    {
     "data": {
      "text/plain": [
       "<langchain.vectorstores.pinecone.Pinecone at 0x7f3f1813f940>"
      ]
     },
     "execution_count": 3,
     "metadata": {},
     "output_type": "execute_result"
    }
   ],
   "source": [
    "lang_vectorstore"
   ]
  },
  {
   "cell_type": "code",
   "execution_count": 4,
   "id": "bbec94bb",
   "metadata": {},
   "outputs": [],
   "source": [
    "from langchain.llms import OpenAI\n",
    "from langchain.retrievers.self_query.base import SelfQueryRetriever\n",
    "\n",
    "\n",
    "llm = OpenAI(temperature=0)\n"
   ]
  },
  {
   "cell_type": "code",
   "execution_count": 5,
   "id": "da8f47de",
   "metadata": {},
   "outputs": [],
   "source": [
    "from langchain.chains.query_constructor.base import AttributeInfo\n",
    "\n",
    "metadata_field_info=[\n",
    "    AttributeInfo(\n",
    "        name=\"genre\",\n",
    "        description=\"The genre of the movie\", \n",
    "        type=\"string or list[string]\", \n",
    "    ),\n",
    "    AttributeInfo(\n",
    "        name=\"year\",\n",
    "        description=\"The year the movie was released\", \n",
    "        type=\"integer\", \n",
    "    ),\n",
    "    AttributeInfo(\n",
    "        name=\"director\",\n",
    "        description=\"The name of the movie director\", \n",
    "        type=\"string\", \n",
    "    ),\n",
    "    AttributeInfo(\n",
    "        name=\"rating\",\n",
    "        description=\"A 1-10 rating for the movie\",\n",
    "        type=\"float\"\n",
    "    ),\n",
    "]\n",
    "document_content_description = \"Brief summary of a movie\"\n",
    "\n",
    "\n"
   ]
  },
  {
   "cell_type": "code",
   "execution_count": 6,
   "id": "0a6018ab",
   "metadata": {},
   "outputs": [],
   "source": [
    "\n",
    "retriever = SelfQueryRetriever.from_llm(llm, lang_vectorstore, document_content_description, metadata_field_info, verbose=True)\n"
   ]
  },
  {
   "cell_type": "code",
   "execution_count": 7,
   "id": "b581d9b7",
   "metadata": {},
   "outputs": [
    {
     "name": "stdout",
     "output_type": "stream",
     "text": [
      "query='dinosaur' filter=None\n",
      "[Document(page_content='A bunch of scientists bring back dinosaurs and mayhem breaks loose', metadata={'genre': ['action', 'science fiction'], 'rating': 7.7, 'year': 1993.0}), Document(page_content='A bunch of scientists bring back dinosaurs and mayhem breaks loose', metadata={'genre': ['action', 'science fiction'], 'rating': 7.7, 'year': 1993.0}), Document(page_content='Toys come alive and have a blast doing so', metadata={'genre': 'animated', 'year': 1995.0}), Document(page_content='Toys come alive and have a blast doing so', metadata={'genre': 'animated', 'year': 1995.0})]\n"
     ]
    }
   ],
   "source": [
    "print(retriever.get_relevant_documents(\"What are some movies about dinosaurs\"))"
   ]
  },
  {
   "cell_type": "code",
   "execution_count": null,
   "id": "c188e4cb",
   "metadata": {},
   "outputs": [],
   "source": []
  }
 ],
 "metadata": {
  "kernelspec": {
   "display_name": "Python 3 (ipykernel)",
   "language": "python",
   "name": "python3"
  },
  "language_info": {
   "codemirror_mode": {
    "name": "ipython",
    "version": 3
   },
   "file_extension": ".py",
   "mimetype": "text/x-python",
   "name": "python",
   "nbconvert_exporter": "python",
   "pygments_lexer": "ipython3",
   "version": "3.10.6"
  }
 },
 "nbformat": 4,
 "nbformat_minor": 5
}
