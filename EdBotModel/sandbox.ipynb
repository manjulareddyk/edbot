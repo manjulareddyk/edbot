{
 "cells": [
  {
   "cell_type": "code",
   "execution_count": 5,
   "id": "bf978531",
   "metadata": {},
   "outputs": [],
   "source": [
    "from langchain.document_loaders import PyPDFLoader\n",
    "from langchain.text_splitter import CharacterTextSplitter\n",
    "import os"
   ]
  },
  {
   "cell_type": "code",
   "execution_count": 2,
   "id": "255653db",
   "metadata": {},
   "outputs": [
    {
     "name": "stdout",
     "output_type": "stream",
     "text": [
      "/home/balavarun/Desktop/nlp/edbot/EdBotModel\r\n"
     ]
    }
   ],
   "source": [
    "!pwd"
   ]
  },
  {
   "cell_type": "code",
   "execution_count": 27,
   "id": "876cb27f",
   "metadata": {},
   "outputs": [],
   "source": [
    "def ingest_docs(filename):\n",
    "    path = \"docs/\" + filename\n",
    "    if(filename.endswith(\".pdf\") == False):\n",
    "        return\n",
    "    loader = PyPDFLoader(path)\n",
    "    pages = loader.load_and_split()\n",
    "    # print(pages[0].page_content)\n",
    "    text_splitter = CharacterTextSplitter(chunk_size=1000, chunk_overlap=0)\n",
    "    docs = text_splitter.split_documents(pages)\n",
    "    print(docs[0].metadata)\n",
    "\n",
    "\n",
    "    # embeddings = OpenAIEmbeddings()\n",
    "    # db = FAISS.from_documents(documents=docs, embedding=embeddings)\n",
    "\n",
    "    # #save to pinecone too\n",
    "    # Pinecone.from_documents(pages, embedding=embeddings, index_name=\"edbot\")\n",
    "\n",
    "\n",
    "    path_to_index = \"docs/faiss_indices/\" + filename + \".index\"\n",
    "    # db.save_local(path_to_index)\n",
    "    return docs"
   ]
  },
  {
   "cell_type": "code",
   "execution_count": 28,
   "id": "2611b2c8",
   "metadata": {},
   "outputs": [
    {
     "name": "stdout",
     "output_type": "stream",
     "text": [
      "{'source': 'docs/qualomm-2.pdf', 'page': 0}\n"
     ]
    }
   ],
   "source": [
    "folder_path = \"docs/\"\n",
    "\n",
    "for filename in os.listdir(folder_path):\n",
    "    test = ingest_docs(filename)\n",
    "    break\n",
    "\n",
    "# type(test)"
   ]
  },
  {
   "cell_type": "code",
   "execution_count": null,
   "id": "7221e527",
   "metadata": {},
   "outputs": [],
   "source": []
  }
 ],
 "metadata": {
  "kernelspec": {
   "display_name": "Python 3 (ipykernel)",
   "language": "python",
   "name": "python3"
  },
  "language_info": {
   "codemirror_mode": {
    "name": "ipython",
    "version": 3
   },
   "file_extension": ".py",
   "mimetype": "text/x-python",
   "name": "python",
   "nbconvert_exporter": "python",
   "pygments_lexer": "ipython3",
   "version": "3.10.6"
  }
 },
 "nbformat": 4,
 "nbformat_minor": 5
}
